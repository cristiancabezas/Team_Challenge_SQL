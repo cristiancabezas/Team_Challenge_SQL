{
 "cells": [
  {
   "cell_type": "code",
   "execution_count": null,
   "id": "94c9a66e-dbec-4632-8cb4-8aaaf3652976",
   "metadata": {},
   "outputs": [],
   "source": [
    "import pandas as pd\n",
    "import sqlite3"
   ]
  },
  {
   "cell_type": "markdown",
   "id": "03db4648-407f-49cf-bd39-db318a4e14ea",
   "metadata": {},
   "source": [
    "![img](./diagrama_sql.png)"
   ]
  },
  {
   "cell_type": "code",
   "execution_count": null,
   "id": "2392ee29-5627-48d9-9711-ed60c2925ec0",
   "metadata": {},
   "outputs": [],
   "source": [
    "connection = sqlite3.connect('./Base_de_datos.db')"
   ]
  },
  {
   "cell_type": "code",
   "execution_count": null,
   "id": "d31c750d-076b-4ba2-8933-a714e1baeee2",
   "metadata": {},
   "outputs": [],
   "source": [
    "cursor_gestion = connection.cursor()"
   ]
  },
  {
   "cell_type": "code",
   "execution_count": null,
   "id": "64ad2397-07ee-41a6-806b-1de717863584",
   "metadata": {},
   "outputs": [],
   "source": [
    "query_create = '''\n",
    "CREATE TABLE Proveedores (\n",
    "ID_PROVEEDORES   CHAR(5) PRIMARY KEY,\n",
    "NOMBRE           TEXT NOT NULL,\n",
    "APELLIDO         TEXT NOT NULL,\n",
    "DIRECCION        TEXT NOT NULL,\n",
    "CIUDAD           TEXT NOT NULL,\n",
    "PROVINCIA        TEXT NOT NULL\n",
    ")\n",
    "'''\n",
    "cursor_gestion.execute(query_create)"
   ]
  },
  {
   "cell_type": "code",
   "execution_count": null,
   "id": "72e6a35b-7c37-47f6-9453-aa3876fc9f3b",
   "metadata": {},
   "outputs": [],
   "source": [
    "query = '''\n",
    "SELECT *\n",
    "FROM sqlite_master\n",
    "WHERE type = 'table'\n",
    "'''\n",
    "\n",
    "cursor_gestion.execute(query)\n",
    "cursor_gestion.fetchall()"
   ]
  },
  {
   "cell_type": "code",
   "execution_count": null,
   "id": "903e58c8-35cb-42b7-9e8e-703975c27705",
   "metadata": {},
   "outputs": [],
   "source": [
    "proveedores = {\n",
    "    'AS32Q': ('Manuel', 'Sanchez', 'Calle Cantabria, 9', 'Badalona', 'Barcelona')\n",
    "}\n",
    "\n",
    "for identificador, datos in proveedores.items():\n",
    "    nombre = datos[0]\n",
    "    apellido = datos[1]\n",
    "    direccion = datos[2]\n",
    "    ciudad = datos[3]\n",
    "    provincia = datos[4]\n",
    "    query = f'''\n",
    "    INSERT INTO Proveedores (ID_PROVEEDORES, NOMBRE, APELLIDO, DIRECCION, CIUDAD, PROVINCIA)\n",
    "    VALUES ('{identificador}', '{nombre}', '{apellido}', '{direccion}', '{ciudad}', '{provincia}')\n",
    "    '''\n",
    "    cursor_gestion.execute(query)\n",
    "    "
   ]
  },
  {
   "cell_type": "code",
   "execution_count": null,
   "id": "23bd9fe6-8c81-49e5-be22-43d0b6998393",
   "metadata": {},
   "outputs": [],
   "source": []
  }
 ],
 "metadata": {
  "kernelspec": {
   "display_name": "Python 3 (ipykernel)",
   "language": "python",
   "name": "python3"
  },
  "language_info": {
   "codemirror_mode": {
    "name": "ipython",
    "version": 3
   },
   "file_extension": ".py",
   "mimetype": "text/x-python",
   "name": "python",
   "nbconvert_exporter": "python",
   "pygments_lexer": "ipython3",
   "version": "3.10.6"
  }
 },
 "nbformat": 4,
 "nbformat_minor": 5
}
